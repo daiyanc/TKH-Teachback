{
 "cells": [
  {
   "cell_type": "markdown",
   "metadata": {},
   "source": [
    "### Create a parent class called Dad that has three methods\n",
    "- __init__\n",
    "- who_am_i\n",
    "- eat\n",
    " \n",
    "\n",
    "The init method does not need to have an attribute. You can just have print statement that prints something   \n",
    "- Create an instance called myparent that calls the Dad class and execute. \n",
    "- Use the dot notation to call the Dad methods "
   ]
  },
  {
   "cell_type": "markdown",
   "metadata": {},
   "source": [
    "### Create a child class called Child_1 that will inherit all the methods of Dad class"
   ]
  },
  {
   "cell_type": "markdown",
   "metadata": {},
   "source": [
    "### Create an instance called my_child that calls the Child_1 class and execute."
   ]
  },
  {
   "cell_type": "markdown",
   "metadata": {},
   "source": [
    "What is method overriding? Which method do we want to override from the parent class? "
   ]
  },
  {
   "cell_type": "code",
   "execution_count": null,
   "metadata": {},
   "outputs": [],
   "source": [
    "# Declaration vs Instance:\n",
    "# From the following code, which one is the class attribute? \n",
    "# How do we write the instance of class Hello?\n",
    "\n",
    "# Class Declaration\n",
    "class Hello: \n",
    "    i = 12345\n",
    "    \n",
    "    def f(self):\n",
    "        return 'hello world'"
   ]
  },
  {
   "cell_type": "code",
   "execution_count": null,
   "metadata": {},
   "outputs": [],
   "source": [
    "# Instance of class Hello\n",
    "x = Hello()\n",
    "print(x.i)\n",
    "print(x.f())"
   ]
  },
  {
   "cell_type": "markdown",
   "metadata": {},
   "source": [
    "From the following code, what allows us to access the attributes or methods of the object s?"
   ]
  },
  {
   "cell_type": "code",
   "execution_count": null,
   "metadata": {},
   "outputs": [],
   "source": [
    "s = Hello()\n",
    "print(s.i)\n",
    "print(s.f())"
   ]
  }
 ],
 "metadata": {
  "language_info": {
   "name": "python"
  },
  "orig_nbformat": 4
 },
 "nbformat": 4,
 "nbformat_minor": 2
}
