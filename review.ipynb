{
 "cells": [
  {
   "cell_type": "markdown",
   "metadata": {},
   "source": [
    "# Let's make our own custom module called Comparable.\n",
    "\n",
    "### Our module will have the following methods:\n",
    "\n",
    "```\n",
    "def compare_num(# Params: num1 -> float, num2 -> float):\n",
    "    # Compares two numbers and returns the larger number\n",
    "    # If equal, returns True\n",
    "\n",
    "def add_num(# Params: num1 -> float, num2 -> float):\n",
    "    # Adds two numbers and returns value\n",
    "\n",
    "def subtract_num(# Params: num1 -> float, num2 -> float):\n",
    "    # Subtracts two numbers and returns value\n",
    "\n",
    "def multiply_num(# Params: num1 -> float, num2 -> float):\n",
    "    # Multiplies two nums and returns value\n",
    "\n",
    "def divide_num(# Params: num1 -> float, num2 -> float):\n",
    "    # Divides two nums and returns value\n",
    "\n",
    "def modulo_num(# Params: num1 -> float, num2 -> float):\n",
    "    # Modulos two nums and returns value\n",
    "\n",
    "def get_average(# Params: *nums) -> float\n",
    "    # Returns average of numbers\n",
    "```"
   ]
  },
  {
   "cell_type": "code",
   "execution_count": 2,
   "metadata": {},
   "outputs": [],
   "source": [
    "# use the import keyword to import our custom module\n",
    "import comparable as comparable\n",
    "\n",
    "num1 = 5\n",
    "num2 = 62.7"
   ]
  },
  {
   "cell_type": "code",
   "execution_count": 46,
   "metadata": {},
   "outputs": [
    {
     "data": {
      "text/plain": [
       "67.7"
      ]
     },
     "execution_count": 46,
     "metadata": {},
     "output_type": "execute_result"
    }
   ],
   "source": [
    "# Let's use our add_num method to add our two numbers\n",
    "comparable.add_num(num1=num1, num2=num2)"
   ]
  },
  {
   "cell_type": "code",
   "execution_count": 47,
   "metadata": {},
   "outputs": [
    {
     "data": {
      "text/plain": [
       "-57.7"
      ]
     },
     "execution_count": 47,
     "metadata": {},
     "output_type": "execute_result"
    }
   ],
   "source": [
    "# Our subtract_num method\n",
    "comparable.subtract_num(num1=num1, num2=num2)"
   ]
  },
  {
   "cell_type": "code",
   "execution_count": 48,
   "metadata": {},
   "outputs": [
    {
     "data": {
      "text/plain": [
       "313.5"
      ]
     },
     "execution_count": 48,
     "metadata": {},
     "output_type": "execute_result"
    }
   ],
   "source": [
    "# Our multiply method\n",
    "comparable.multiply_num(num1=num1, num2=num2)"
   ]
  },
  {
   "cell_type": "code",
   "execution_count": 49,
   "metadata": {},
   "outputs": [
    {
     "data": {
      "text/plain": [
       "0.07974481658692184"
      ]
     },
     "execution_count": 49,
     "metadata": {},
     "output_type": "execute_result"
    }
   ],
   "source": [
    "# Our divide method\n",
    "comparable.divide_num(num1=num1, num2=num2)"
   ]
  },
  {
   "cell_type": "code",
   "execution_count": 50,
   "metadata": {},
   "outputs": [
    {
     "data": {
      "text/plain": [
       "5.0"
      ]
     },
     "execution_count": 50,
     "metadata": {},
     "output_type": "execute_result"
    }
   ],
   "source": [
    "# Our module method\n",
    "comparable.modulo_num(num1=num1, num2=num2)"
   ]
  },
  {
   "cell_type": "code",
   "execution_count": 4,
   "metadata": {},
   "outputs": [
    {
     "data": {
      "text/plain": [
       "4.5"
      ]
     },
     "execution_count": 4,
     "metadata": {},
     "output_type": "execute_result"
    }
   ],
   "source": [
    "# Our average method\n",
    "comparable.get_average(1, 2, 3, 4, 5, 6, 7, 8)"
   ]
  },
  {
   "cell_type": "markdown",
   "metadata": {},
   "source": [
    "## Now let's import some libraries already installed with Python\n",
    "\n",
    "#### Pandas, Names, Random, Numpy"
   ]
  },
  {
   "cell_type": "code",
   "execution_count": 28,
   "metadata": {},
   "outputs": [
    {
     "name": "stdout",
     "output_type": "stream",
     "text": [
      "Requirement already satisfied: names in c:\\users\\daiyan\\appdata\\local\\packages\\pythonsoftwarefoundation.python.3.9_qbz5n2kfra8p0\\localcache\\local-packages\\python39\\site-packages (0.3.0)\n"
     ]
    }
   ],
   "source": [
    "# Let's install this module into our system, it will come handy soon\n",
    "!pip install names"
   ]
  },
  {
   "cell_type": "code",
   "execution_count": 7,
   "metadata": {},
   "outputs": [],
   "source": [
    "# use the import keyword to import our pandas. \n",
    "# We'll also use a names library to create some random psuedo names and random library to import random numbers\n",
    "# Let's also use numpy for easier manipulation of numbers and arrays\n",
    "import pandas as pd\n",
    "import names as names\n",
    "import random\n",
    "import numpy as np"
   ]
  },
  {
   "cell_type": "code",
   "execution_count": 9,
   "metadata": {},
   "outputs": [
    {
     "name": "stdout",
     "output_type": "stream",
     "text": [
      "   Student Names  First Semester  Second Semester  Third Semester  \\\n",
      "0        Anthony              79               92              52   \n",
      "1          Pedro              68               77              85   \n",
      "2        Cynthia              52               52              72   \n",
      "3         Sherry              74               89              60   \n",
      "4         Gloria              70               71              97   \n",
      "..           ...             ...              ...             ...   \n",
      "95         Bryan              95               53              91   \n",
      "96      Jennifer              59               78              64   \n",
      "97       Richard              74               50              89   \n",
      "98         Alice              81               45              78   \n",
      "99       Valerie             100               47              92   \n",
      "\n",
      "    Fourth Semester     Faculty Name  \n",
      "0                73   Cecelia Wiener  \n",
      "1                57     Troy Harrell  \n",
      "2                57    Brent Johnson  \n",
      "3                85       John Craig  \n",
      "4                81  Joseph Brothers  \n",
      "..              ...              ...  \n",
      "95               68     Doris Arnold  \n",
      "96               55  Joseph Brothers  \n",
      "97               67     Larry Tucker  \n",
      "98               56       John Craig  \n",
      "99               72     Troy Harrell  \n",
      "\n",
      "[100 rows x 6 columns]\n"
     ]
    }
   ],
   "source": [
    "# Let's make a quick dataframe using pandas\n",
    "# But first, let's make a list of random names for 100 students\n",
    "\n",
    "student_names = []\n",
    "for i in range(100):\n",
    "    student_names.append(names.get_first_name())\n",
    "\n",
    "# Now let's make random grades for each student\n",
    "# to do that we need to use the random library\n",
    "first_quarter = []\n",
    "for i in range(100):\n",
    "    first_quarter.append(random.randint(45, 100))\n",
    "\n",
    "second_quarter = []\n",
    "for i in range(100):\n",
    "    second_quarter.append(random.randint(45, 100))\n",
    "\n",
    "third_quarter = []\n",
    "for i in range(100):\n",
    "    third_quarter.append(random.randint(45, 100))\n",
    "\n",
    "fourth_quarter = []\n",
    "for i in range(100):\n",
    "    fourth_quarter.append(random.randint(45, 100))\n",
    "\n",
    "\n",
    "# Let's make some Faculty members in our school\n",
    "faculty_names = []\n",
    "for i in range(10):\n",
    "    faculty_names.append(names.get_full_name())\n",
    "\n",
    "# Let's make the list larger with duplicates of the first 10 names\n",
    "faculty_names = list(np.repeat(faculty_names, 10))\n",
    "\n",
    "# We can use the shuffle method from the random library to shuffle our list and randomize it\n",
    "random.shuffle(faculty_names)\n",
    "\n",
    "\n",
    "# Let's create a dictionary of our school\n",
    "school_information = {\n",
    "    'Student Names': student_names,\n",
    "    'First Semester': first_quarter,\n",
    "    'Second Semester': second_quarter,\n",
    "    'Third Semester': third_quarter,\n",
    "    'Fourth Semester': fourth_quarter,\n",
    "    'Faculty Name' : faculty_names\n",
    "}\n",
    "\n",
    "# Now let's make a Database using our dictionary\n",
    "school = pd.DataFrame(data=school_information)\n",
    "print(school)"
   ]
  },
  {
   "cell_type": "markdown",
   "metadata": {},
   "source": [
    "### Now, let's use our custom made Comparable library and create a new column that takes the average of all the grades for a student in a year"
   ]
  },
  {
   "cell_type": "code",
   "execution_count": 11,
   "metadata": {},
   "outputs": [
    {
     "name": "stdout",
     "output_type": "stream",
     "text": [
      "   Student Names  First Semester  Second Semester  Third Semester  \\\n",
      "0        Anthony              79               92              52   \n",
      "1          Pedro              68               77              85   \n",
      "2        Cynthia              52               52              72   \n",
      "3         Sherry              74               89              60   \n",
      "4         Gloria              70               71              97   \n",
      "..           ...             ...              ...             ...   \n",
      "95         Bryan              95               53              91   \n",
      "96      Jennifer              59               78              64   \n",
      "97       Richard              74               50              89   \n",
      "98         Alice              81               45              78   \n",
      "99       Valerie             100               47              92   \n",
      "\n",
      "    Fourth Semester     Faculty Name  Average  \n",
      "0                73   Cecelia Wiener    74.00  \n",
      "1                57     Troy Harrell    71.75  \n",
      "2                57    Brent Johnson    58.25  \n",
      "3                85       John Craig    77.00  \n",
      "4                81  Joseph Brothers    79.75  \n",
      "..              ...              ...      ...  \n",
      "95               68     Doris Arnold    76.75  \n",
      "96               55  Joseph Brothers    64.00  \n",
      "97               67     Larry Tucker    70.00  \n",
      "98               56       John Craig    65.00  \n",
      "99               72     Troy Harrell    77.75  \n",
      "\n",
      "[100 rows x 7 columns]\n"
     ]
    }
   ],
   "source": [
    "# We must use our get_average method\n",
    "# To create a new column, we simply call the dataframe and type in the new column name in brackets\n",
    "school['Average'] = comparable.get_average(school['First Semester'], school['Second Semester'], school['Third Semester'], school['Fourth Semester'])\n",
    "print(school)"
   ]
  }
 ],
 "metadata": {
  "interpreter": {
   "hash": "f0241158d50e3e34b77f53e7a6d3f67a50c8c5a9037013305f31610104d3e5b8"
  },
  "kernelspec": {
   "display_name": "Python 3.9.9 64-bit (windows store)",
   "language": "python",
   "name": "python3"
  },
  "language_info": {
   "codemirror_mode": {
    "name": "ipython",
    "version": 3
   },
   "file_extension": ".py",
   "mimetype": "text/x-python",
   "name": "python",
   "nbconvert_exporter": "python",
   "pygments_lexer": "ipython3",
   "version": "3.9.9"
  },
  "orig_nbformat": 4
 },
 "nbformat": 4,
 "nbformat_minor": 2
}
