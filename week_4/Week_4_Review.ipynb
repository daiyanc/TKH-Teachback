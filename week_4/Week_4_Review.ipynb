{
  "nbformat": 4,
  "nbformat_minor": 0,
  "metadata": {
    "colab": {
      "name": "Week 4 Review",
      "provenance": []
    },
    "kernelspec": {
      "name": "python3",
      "display_name": "Python 3"
    },
    "language_info": {
      "name": "python"
    }
  },
  "cells": [
    {
      "cell_type": "markdown",
      "metadata": {
        "id": "0GyZNPV-fEDp"
      },
      "source": [
        "FUNCTIONS\n",
        "\n",
        "**Exercise 1**\n",
        "What is a function?\n",
        "Give an example of a function in the real world.\n",
        "\n"
      ]
    },
    {
      "cell_type": "markdown",
      "metadata": {
        "id": "iw7tmmadfD8J"
      },
      "source": [
        "\n",
        "**Defining Functions**\n",
        "\n",
        "- You have seen how to call functions.  Now we’ll see how to define them.\n",
        "- This function takes a number x and returns $x^2 + x^3$.**bold text**"
      ]
    },
    {
      "cell_type": "code",
      "metadata": {
        "id": "A2DprKP6jbXi"
      },
      "source": [
        "def add_two_powers(x):\n",
        "    return x**2 + x**3"
      ],
      "execution_count": null,
      "outputs": []
    },
    {
      "cell_type": "markdown",
      "metadata": {
        "id": "GfNfzWQPgjXW"
      },
      "source": [
        "The keyword `def` introduces a function definition. It is followed by the function name and the parenthesized list of parameters. The statements in the body of the function start at the next line, and must be indented.\n",
        "\n",
        "Call the function in the usual way (after the function has been defined, whether in the same cell or a later cell):"
      ]
    },
    {
      "cell_type": "code",
      "metadata": {
        "id": "mXcALuHSjqM7"
      },
      "source": [
        "add_two_powers(4)"
      ],
      "execution_count": null,
      "outputs": []
    },
    {
      "cell_type": "markdown",
      "metadata": {
        "id": "1C8IhsHVi0Q4"
      },
      "source": [
        "There is an alternative syntax for function definitions that will turn out to be handy. It uses the lambda keyword.\n",
        "\n",
        "Back to the previous problem, we could write:"
      ]
    },
    {
      "cell_type": "code",
      "metadata": {
        "id": "tn_iJX7ykBov"
      },
      "source": [
        "Add_two_powers = lambda x: x**2 + x**3\n",
        "Add_two_powers(4)"
      ],
      "execution_count": null,
      "outputs": []
    },
    {
      "cell_type": "markdown",
      "metadata": {
        "id": "bRTg7X6SfApW"
      },
      "source": [
        "The two syntaxes for function definitions give the same result, but note the differences in syntax:\n",
        "\n",
        "```\n",
        "-------------------------\n",
        "def f(x):\n",
        "   return expression\n",
        "-------------------------   \n",
        "f = lambda x: expression\n",
        "-------------------------\n",
        "```\n",
        "\n"
      ]
    },
    {
      "cell_type": "markdown",
      "metadata": {
        "id": "-V8NThYpkMAU"
      },
      "source": [
        "- The first version begins with \"`def`” and has its argument in parentheses.  The second version looks like an assignment statement; it uses the keyword “`lambda`”, and the argument is not in parentheses.\n",
        "\n",
        "- The first version uses the keyword “`return`”; the second version doesn’t.\n",
        "\n",
        "To define a function with multiple arguments, just add more names to the variable list, separated by commas."
      ]
    },
    {
      "cell_type": "markdown",
      "metadata": {
        "id": "9VeTV0uJkec_"
      },
      "source": [
        "**Exercise 2**: Defining functions\n",
        "\n",
        "Define a function that takes the radius of a circle as input and return the area. (Remember the area of a circle =  𝜋𝑟2 .) Define it with both syntaxes, def and lambda, calling them area and Area, respectively.\n",
        "\n",
        "Note: You need to use math.pi, which is defined in the math module.\n",
        "Calculate the area of a circle with radius 10 using both functions.\n",
        "\n",
        "---\n",
        "\n"
      ]
    },
    {
      "cell_type": "markdown",
      "metadata": {
        "id": "Jqqkjveke1Oa"
      },
      "source": [
        "**Exercise 3**\n",
        "Create a function that when given an integer x, returns true if x is palindrome integer.\n",
        "\n",
        "An integer is a palindrome when it reads the same backward as forward. For example, 121 is palindrome while 123 is not.\n",
        "\n",
        " \n",
        "\n",
        "Example 1:\n",
        "\n",
        "Input: x = 121\n",
        "Output: true\n",
        "Example 2:\n",
        "\n",
        "Input: x = -121\n",
        "Output: false\n",
        "Explanation: From left to right, it reads -121. From right to left, it becomes 121-. Therefore it is not a palindrome.\n",
        "Example 3:\n",
        "\n",
        "Input: x = 10\n",
        "Output: false\n",
        "Explanation: Reads 01 from right to left. Therefore it is not a palindrome.\n",
        "Example 4:\n",
        "\n",
        "Input: x = -101\n",
        "Output: false"
      ]
    },
    {
      "cell_type": "code",
      "metadata": {
        "id": "bwx0mJnSv8z7"
      },
      "source": [
        ""
      ],
      "execution_count": null,
      "outputs": []
    },
    {
      "cell_type": "code",
      "metadata": {
        "id": "KFZSgvJXv8rB"
      },
      "source": [
        ""
      ],
      "execution_count": null,
      "outputs": []
    },
    {
      "cell_type": "code",
      "metadata": {
        "id": "-RR-Sgh2v8iQ"
      },
      "source": [
        ""
      ],
      "execution_count": null,
      "outputs": []
    },
    {
      "cell_type": "markdown",
      "metadata": {
        "id": "wtefQGlaif5H"
      },
      "source": [
        "**Exercise 4**\n",
        "\n",
        "Given an array of meeting time intervals where intervals[i] = [starti, endi], determine if a person could attend all meetings.\n",
        "\n",
        " \n",
        "\n",
        "Example 1:\n",
        "\n",
        "Input: intervals = [[0,30],[5,10],[15,20]]\n",
        "Output: false\n",
        "Example 2:\n",
        "\n",
        "Input: intervals = [[7,10],[2,4]]\n",
        "Output: true\n"
      ]
    },
    {
      "cell_type": "code",
      "metadata": {
        "id": "RkvzAK7Sv-W3"
      },
      "source": [
        ""
      ],
      "execution_count": null,
      "outputs": []
    },
    {
      "cell_type": "code",
      "metadata": {
        "id": "rzuar3wiv-Gj"
      },
      "source": [
        ""
      ],
      "execution_count": null,
      "outputs": []
    },
    {
      "cell_type": "code",
      "metadata": {
        "id": "LvX9bzn_v98v"
      },
      "source": [
        ""
      ],
      "execution_count": null,
      "outputs": []
    },
    {
      "cell_type": "markdown",
      "metadata": {
        "id": "Zw4leERWmOSx"
      },
      "source": [
        "**Recursive Functions**\n",
        "\n",
        "A recursive function is a function that calls itself until a “base condition” is true, and execution stops. A return statement passes a value back to the immediate caller of the current function's call-frame."
      ]
    },
    {
      "cell_type": "markdown",
      "metadata": {
        "id": "mp7G_yW8qJ3s"
      },
      "source": [
        "\n",
        "Watch from 13:36 - \n",
        "https://www.youtube.com/watch?v=ZIMoxXO0XvM&t=1391s"
      ]
    },
    {
      "cell_type": "code",
      "metadata": {
        "id": "M5cU-E6UwAsX"
      },
      "source": [
        ""
      ],
      "execution_count": null,
      "outputs": []
    },
    {
      "cell_type": "code",
      "metadata": {
        "id": "lR4iN6HfwAUX"
      },
      "source": [
        ""
      ],
      "execution_count": null,
      "outputs": []
    },
    {
      "cell_type": "markdown",
      "metadata": {
        "id": "C14_08S1wSXk"
      },
      "source": [
        "\n",
        "**Exercise 4**\n",
        "Give an example of a function in the real world."
      ]
    },
    {
      "cell_type": "markdown",
      "metadata": {
        "id": "dO6AHZILpXjM"
      },
      "source": [
        "def fn():\n",
        "    # ...\n",
        "    if condition:\n",
        "        # stop calling itself\n",
        "    else:\n",
        "        fn()\n",
        "    # ...\n"
      ]
    },
    {
      "cell_type": "code",
      "metadata": {
        "id": "6Pr0iyRcxgmT"
      },
      "source": [
        "def sfactorr(j):\n",
        "    if j == 1:\n",
        "        return 1\n",
        "    else:\n",
        "        return j * sfactorr(j-1)"
      ],
      "execution_count": null,
      "outputs": []
    },
    {
      "cell_type": "code",
      "metadata": {
        "colab": {
          "base_uri": "https://localhost:8080/"
        },
        "id": "BrR6ne2nyZ6f",
        "outputId": "6b275320-2844-4f44-bbca-dfa2d13f1eb3"
      },
      "source": [
        "sfactorr(4)"
      ],
      "execution_count": null,
      "outputs": [
        {
          "output_type": "execute_result",
          "data": {
            "text/plain": [
              "24"
            ]
          },
          "metadata": {},
          "execution_count": 3
        }
      ]
    },
    {
      "cell_type": "markdown",
      "metadata": {
        "id": "I30rlcYXvdgH"
      },
      "source": [
        "**Exercise 5**"
      ]
    },
    {
      "cell_type": "code",
      "metadata": {
        "id": "S11XFeMevKX9"
      },
      "source": [
        "\n",
        "def fib(n):\n",
        "    if n < 2:\n",
        "        return n\n",
        "    return fib(n-2) + fib(n-1)"
      ],
      "execution_count": null,
      "outputs": []
    },
    {
      "cell_type": "code",
      "metadata": {
        "colab": {
          "base_uri": "https://localhost:8080/"
        },
        "id": "2-8u2jatvOA8",
        "outputId": "c1aa6c5a-60c3-40b6-cf77-fc342e941f2b"
      },
      "source": [
        "fib(5)"
      ],
      "execution_count": null,
      "outputs": [
        {
          "output_type": "execute_result",
          "data": {
            "text/plain": [
              "5"
            ]
          },
          "metadata": {},
          "execution_count": 9
        }
      ]
    },
    {
      "cell_type": "markdown",
      "metadata": {
        "id": "ZutwNC-muIyO"
      },
      "source": [
        ""
      ]
    }
  ]
}