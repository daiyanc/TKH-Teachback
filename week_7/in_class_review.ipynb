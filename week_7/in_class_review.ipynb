{
 "cells": [
  {
   "cell_type": "markdown",
   "metadata": {},
   "source": [
    "# Let's make our own custom module called Comparable.\n",
    "\n",
    "### Our module will have the following methods:\n",
    "\n",
    "```\n",
    "def compare_num(# Params: num1 -> float, num2 -> float):\n",
    "    # Compares two numbers and returns the larger number\n",
    "    # If equal, returns True\n",
    "\n",
    "def add_num(# Params: num1 -> float, num2 -> float):\n",
    "    # Adds two numbers and returns value\n",
    "\n",
    "def subtract_num(# Params: num1 -> float, num2 -> float):\n",
    "    # Subtracts two numbers and returns value\n",
    "\n",
    "def multiply_num(# Params: num1 -> float, num2 -> float):\n",
    "    # Multiplies two nums and returns value\n",
    "\n",
    "def divide_num(# Params: num1 -> float, num2 -> float):\n",
    "    # Divides two nums and returns value\n",
    "\n",
    "def modulo_num(# Params: num1 -> float, num2 -> float):\n",
    "    # Modulos two nums and returns value\n",
    "```"
   ]
  },
  {
   "cell_type": "code",
   "execution_count": null,
   "metadata": {},
   "outputs": [],
   "source": [
    "# use the import keyword to import our custom module"
   ]
  },
  {
   "cell_type": "code",
   "execution_count": null,
   "metadata": {},
   "outputs": [],
   "source": [
    "# Let's use our add_num method to add our two numbers"
   ]
  },
  {
   "cell_type": "code",
   "execution_count": null,
   "metadata": {},
   "outputs": [],
   "source": [
    "# Our subtract_num method"
   ]
  },
  {
   "cell_type": "code",
   "execution_count": null,
   "metadata": {},
   "outputs": [],
   "source": [
    "# Our multiply method"
   ]
  },
  {
   "cell_type": "code",
   "execution_count": null,
   "metadata": {},
   "outputs": [],
   "source": [
    "# Our divide method"
   ]
  },
  {
   "cell_type": "code",
   "execution_count": null,
   "metadata": {},
   "outputs": [],
   "source": [
    "# Our module method"
   ]
  },
  {
   "cell_type": "code",
   "execution_count": null,
   "metadata": {},
   "outputs": [],
   "source": [
    "# Our average method"
   ]
  },
  {
   "cell_type": "markdown",
   "metadata": {},
   "source": [
    "## Now let's import some libraries already installed with Python\n",
    "\n",
    "#### We will be using Pandas, Names, NumPy, and Random"
   ]
  },
  {
   "cell_type": "code",
   "execution_count": null,
   "metadata": {},
   "outputs": [],
   "source": [
    "# Let's install these modules into our system, it will come handy soon\n",
    "!pip install names\n",
    "!pip install pandas \n",
    "!pip install random \n",
    "!pip install numpy"
   ]
  },
  {
   "cell_type": "code",
   "execution_count": null,
   "metadata": {},
   "outputs": [],
   "source": [
    "# use the import keyword to import our pandas. \n",
    "# We'll also use a names library to create some random psuedo names and random library to import random numbers\n",
    "# Let's also use numpy for easier manipulation of numbers and arrays"
   ]
  },
  {
   "cell_type": "code",
   "execution_count": null,
   "metadata": {},
   "outputs": [],
   "source": [
    "# Let's make a quick dataframe using pandas\n",
    "# But first, let's make a list of random names for 100 students\n",
    "\n",
    "\n",
    "\n",
    "# Now let's make random grades for each student\n",
    "# to do that we need to use the random library\n",
    "\n",
    "\n",
    "\n",
    "# Let's make some Faculty members in our school\n",
    "\n",
    "\n",
    "\n",
    "# Let's make the list larger with duplicates of the first 20 names\n",
    "\n",
    "\n",
    "\n",
    "# We can use the shuffle method from the random library to shuffle our list and randomize it\n",
    "\n",
    "\n",
    "\n",
    "# Let's create a dictionary of our school\n",
    "\n",
    "\n",
    "\n",
    "# Now let's make a Database using our dictionary\n",
    "\n"
   ]
  },
  {
   "cell_type": "markdown",
   "metadata": {},
   "source": [
    "### Now, let's use our custom made Comparable library and create a new column that takes the average of all the grades for a student in a year"
   ]
  },
  {
   "cell_type": "code",
   "execution_count": null,
   "metadata": {},
   "outputs": [],
   "source": [
    "# We must use our get_average method\n",
    "# To create a new column, we simply call the dataframe and type in the new column name in brackets"
   ]
  }
 ],
 "metadata": {
  "interpreter": {
   "hash": "f0241158d50e3e34b77f53e7a6d3f67a50c8c5a9037013305f31610104d3e5b8"
  },
  "kernelspec": {
   "display_name": "Python 3.9.9 64-bit (windows store)",
   "language": "python",
   "name": "python3"
  },
  "language_info": {
   "codemirror_mode": {
    "name": "ipython",
    "version": 3
   },
   "file_extension": ".py",
   "mimetype": "text/x-python",
   "name": "python",
   "nbconvert_exporter": "python",
   "pygments_lexer": "ipython3",
   "version": "3.9.9"
  },
  "orig_nbformat": 4
 },
 "nbformat": 4,
 "nbformat_minor": 2
}
