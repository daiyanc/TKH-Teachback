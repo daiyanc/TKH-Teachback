{
 "cells": [
  {
   "cell_type": "markdown",
   "metadata": {},
   "source": [
    "## Big O Notation"
   ]
  },
  {
   "cell_type": "markdown",
   "metadata": {},
   "source": [
    "### What is Big O?\n",
    "A way to denote an algorithm's complexity and performance; can be used to describe the execution time required or the space used (e.g. in memory or on disk) by an algorithm.\n",
    "\n",
    "Source\n",
    "- https://www.youtube.com/watch?v=__vX2sjlpXU "
   ]
  },
  {
   "cell_type": "markdown",
   "metadata": {},
   "source": [
    "![week_5](constant_time.jpg) ![week_5](linear_time.jpg) ![week_5](quadratic_time.jpg)"
   ]
  },
  {
   "cell_type": "markdown",
   "metadata": {},
   "source": [
    "## Sorting Algorithms\n",
    "- Insertion Sort - puts info into list in specified order desired\n",
    "- Selection Sort - compares inputs and swaps\n",
    "- Bubble Sort - compares adjacent inputs and swaps\n",
    "- Merge Sort - separates into smaller lists, sorts, and merges\n",
    "- Quick Sort - divides by a pivot point and rearranges, then judges by pivot point what side it’s on."
   ]
  },
  {
   "cell_type": "markdown",
   "metadata": {},
   "source": [
    "### Insertion Sort Example\n",
    "Source\n",
    "- https://youtu.be/byHi41L9vTM  "
   ]
  },
  {
   "cell_type": "markdown",
   "metadata": {},
   "source": [
    "![week_5](insertion_sort.jpg)"
   ]
  },
  {
   "cell_type": "markdown",
   "metadata": {},
   "source": [
    "### Merge Sort Example\n",
    "\n",
    "Source\n",
    "- https://youtu.be/Nso25TkBsYI"
   ]
  },
  {
   "cell_type": "markdown",
   "metadata": {},
   "source": [
    "![week_5](merge_sort.jpg)"
   ]
  },
  {
   "cell_type": "markdown",
   "metadata": {},
   "source": [
    "## Objects / Classes\n",
    "A Class is like an object constructor, or a \"blueprint\" for creating objects."
   ]
  },
  {
   "cell_type": "markdown",
   "metadata": {},
   "source": [
    "![week_5](objects.jpg)"
   ]
  }
 ],
 "metadata": {
  "language_info": {
   "name": "python"
  },
  "orig_nbformat": 4
 },
 "nbformat": 4,
 "nbformat_minor": 2
}
